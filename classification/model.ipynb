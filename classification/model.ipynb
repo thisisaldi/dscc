{
 "cells": [
  {
   "cell_type": "code",
   "execution_count": 116,
   "metadata": {},
   "outputs": [],
   "source": [
    "import pandas as pd\n",
    "import numpy as np\n",
    "import tensorflow as tf"
   ]
  },
  {
   "cell_type": "code",
   "execution_count": 117,
   "metadata": {},
   "outputs": [],
   "source": [
    "import os\n",
    "\n",
    "base_dir = './'\n",
    "train_dir = os.path.join(base_dir, '../dataset/processed')\n",
    "validation_dir = os.path.join(base_dir, '../dataset/test')\n"
   ]
  },
  {
   "cell_type": "code",
   "execution_count": 118,
   "metadata": {},
   "outputs": [],
   "source": [
    "batch_size = 4\n",
    "total_train = 164\n",
    "total_test = 20\n",
    "img_size = (img_width, img_height) = (128, 128)\n",
    "epochs = 30"
   ]
  },
  {
   "cell_type": "code",
   "execution_count": 119,
   "metadata": {},
   "outputs": [],
   "source": [
    "from keras.preprocessing.image import ImageDataGenerator\n",
    "\n",
    "train_datagen = ImageDataGenerator(\n",
    "        rescale=1./255,\n",
    "        rotation_range=20,\n",
    "        horizontal_flip=True,\n",
    "        shear_range = 0.2,\n",
    "        fill_mode='nearest'\n",
    "      )\n",
    "\n",
    "test_datagen = ImageDataGenerator(rescale=1./255)"
   ]
  },
  {
   "cell_type": "code",
   "execution_count": 120,
   "metadata": {},
   "outputs": [
    {
     "name": "stdout",
     "output_type": "stream",
     "text": [
      "Found 258 images belonging to 5 classes.\n",
      "Found 24 images belonging to 5 classes.\n"
     ]
    }
   ],
   "source": [
    "class_mode = 'sparse'\n",
    "\n",
    "train_generator = train_datagen.flow_from_directory(\n",
    "    train_dir,\n",
    "    target_size=img_size,\n",
    "    batch_size=batch_size,\n",
    "    class_mode=class_mode\n",
    ")\n",
    "\n",
    "validation_generator = test_datagen.flow_from_directory(\n",
    "    validation_dir,\n",
    "    target_size=img_size,\n",
    "    batch_size=batch_size,\n",
    "    class_mode=class_mode\n",
    ")"
   ]
  },
  {
   "cell_type": "code",
   "execution_count": 121,
   "metadata": {},
   "outputs": [],
   "source": [
    "def create_model():\n",
    "    model = tf.keras.models.Sequential([\n",
    "        tf.keras.layers.Conv2D(16, (3,3), activation='relu', input_shape=(img_width, img_height, 3)),\n",
    "        tf.keras.layers.MaxPooling2D(2, 2),\n",
    "\n",
    "        tf.keras.layers.Conv2D(32, (3,3), activation='relu'),\n",
    "        tf.keras.layers.MaxPooling2D(2, 2),\n",
    "\n",
    "        tf.keras.layers.Conv2D(16, (3,3), activation='relu'),\n",
    "        tf.keras.layers.MaxPooling2D(2, 2),\n",
    "\n",
    "        tf.keras.layers.Flatten(),\n",
    "        tf.keras.layers.Dense(128, activation='relu'),\n",
    "        tf.keras.layers.Dense(5, activation='sigmoid')\n",
    "    ])\n",
    "\n",
    "    model.compile(loss='sparse_categorical_crossentropy',\n",
    "              optimizer='adam',\n",
    "              metrics=['accuracy'])\n",
    "  \n",
    "    return model"
   ]
  },
  {
   "cell_type": "code",
   "execution_count": 122,
   "metadata": {},
   "outputs": [],
   "source": [
    "checkpoint_path = './trained_model/model.ckpt'\n",
    "checkpoint_dir = os.path.dirname(checkpoint_path)\n",
    "cp_callback = tf.keras.callbacks.ModelCheckpoint(filepath=checkpoint_path, save_weights_only=True, verbose=1)"
   ]
  },
  {
   "cell_type": "code",
   "execution_count": 123,
   "metadata": {},
   "outputs": [
    {
     "name": "stdout",
     "output_type": "stream",
     "text": [
      "Epoch 1/30\n",
      "40/41 [============================>.] - ETA: 0s - loss: 1.3989 - accuracy: 0.4494\n",
      "Epoch 1: saving model to ./trained_model\\model.ckpt\n",
      "41/41 [==============================] - 3s 57ms/step - loss: 1.3952 - accuracy: 0.4568 - val_loss: 1.5376 - val_accuracy: 0.2000\n",
      "Epoch 2/30\n",
      "41/41 [==============================] - ETA: 0s - loss: 1.3001 - accuracy: 0.4756\n",
      "Epoch 2: saving model to ./trained_model\\model.ckpt\n",
      "41/41 [==============================] - 2s 51ms/step - loss: 1.3001 - accuracy: 0.4756 - val_loss: 1.4544 - val_accuracy: 0.3000\n",
      "Epoch 3/30\n",
      "41/41 [==============================] - ETA: 0s - loss: 1.0493 - accuracy: 0.6420\n",
      "Epoch 3: saving model to ./trained_model\\model.ckpt\n",
      "41/41 [==============================] - 2s 51ms/step - loss: 1.0493 - accuracy: 0.6420 - val_loss: 1.2299 - val_accuracy: 0.5500\n",
      "Epoch 4/30\n",
      "40/41 [============================>.] - ETA: 0s - loss: 0.8184 - accuracy: 0.7089\n",
      "Epoch 4: saving model to ./trained_model\\model.ckpt\n",
      "41/41 [==============================] - 2s 52ms/step - loss: 0.8161 - accuracy: 0.7160 - val_loss: 0.7215 - val_accuracy: 0.8000\n",
      "Epoch 5/30\n",
      "41/41 [==============================] - ETA: 0s - loss: 0.5474 - accuracy: 0.8333\n",
      "Epoch 5: saving model to ./trained_model\\model.ckpt\n",
      "41/41 [==============================] - 2s 52ms/step - loss: 0.5474 - accuracy: 0.8333 - val_loss: 0.5389 - val_accuracy: 0.7500\n",
      "Epoch 6/30\n",
      "41/41 [==============================] - ETA: 0s - loss: 0.4119 - accuracy: 0.8765\n",
      "Epoch 6: saving model to ./trained_model\\model.ckpt\n",
      "41/41 [==============================] - 2s 52ms/step - loss: 0.4119 - accuracy: 0.8765 - val_loss: 0.3881 - val_accuracy: 0.9000\n",
      "Epoch 7/30\n",
      "41/41 [==============================] - ETA: 0s - loss: 0.3544 - accuracy: 0.8951\n",
      "Epoch 7: saving model to ./trained_model\\model.ckpt\n",
      "41/41 [==============================] - 2s 54ms/step - loss: 0.3544 - accuracy: 0.8951 - val_loss: 0.4192 - val_accuracy: 0.9000\n",
      "Epoch 8/30\n",
      "41/41 [==============================] - ETA: 0s - loss: 0.2253 - accuracy: 0.9074\n",
      "Epoch 8: saving model to ./trained_model\\model.ckpt\n",
      "41/41 [==============================] - 2s 51ms/step - loss: 0.2253 - accuracy: 0.9074 - val_loss: 0.2855 - val_accuracy: 0.9000\n",
      "Epoch 9/30\n",
      "40/41 [============================>.] - ETA: 0s - loss: 0.1825 - accuracy: 0.9375\n",
      "Epoch 9: saving model to ./trained_model\\model.ckpt\n",
      "41/41 [==============================] - 2s 54ms/step - loss: 0.1802 - accuracy: 0.9390 - val_loss: 0.8552 - val_accuracy: 0.8000\n",
      "Epoch 10/30\n",
      "41/41 [==============================] - ETA: 0s - loss: 0.2649 - accuracy: 0.9444\n",
      "Epoch 10: saving model to ./trained_model\\model.ckpt\n",
      "41/41 [==============================] - 2s 51ms/step - loss: 0.2649 - accuracy: 0.9444 - val_loss: 0.6584 - val_accuracy: 0.8000\n",
      "Epoch 11/30\n",
      "41/41 [==============================] - ETA: 0s - loss: 0.1503 - accuracy: 0.9451\n",
      "Epoch 11: saving model to ./trained_model\\model.ckpt\n",
      "41/41 [==============================] - 2s 57ms/step - loss: 0.1503 - accuracy: 0.9451 - val_loss: 0.6273 - val_accuracy: 0.8500\n",
      "Epoch 12/30\n",
      "40/41 [============================>.] - ETA: 0s - loss: 0.1389 - accuracy: 0.9430\n",
      "Epoch 12: saving model to ./trained_model\\model.ckpt\n",
      "41/41 [==============================] - 2s 61ms/step - loss: 0.1423 - accuracy: 0.9444 - val_loss: 0.4475 - val_accuracy: 0.9000\n",
      "Epoch 13/30\n",
      "41/41 [==============================] - ETA: 0s - loss: 0.1048 - accuracy: 0.9691\n",
      "Epoch 13: saving model to ./trained_model\\model.ckpt\n",
      "41/41 [==============================] - 2s 57ms/step - loss: 0.1048 - accuracy: 0.9691 - val_loss: 0.6747 - val_accuracy: 0.8500\n",
      "Epoch 14/30\n",
      "40/41 [============================>.] - ETA: 0s - loss: 0.0725 - accuracy: 0.9810\n",
      "Epoch 14: saving model to ./trained_model\\model.ckpt\n",
      "41/41 [==============================] - 2s 53ms/step - loss: 0.0711 - accuracy: 0.9815 - val_loss: 0.5214 - val_accuracy: 0.9500\n",
      "Epoch 15/30\n",
      "41/41 [==============================] - ETA: 0s - loss: 0.2018 - accuracy: 0.9329\n",
      "Epoch 15: saving model to ./trained_model\\model.ckpt\n",
      "41/41 [==============================] - 2s 55ms/step - loss: 0.2018 - accuracy: 0.9329 - val_loss: 0.3133 - val_accuracy: 0.9500\n",
      "Epoch 16/30\n",
      "40/41 [============================>.] - ETA: 0s - loss: 0.2608 - accuracy: 0.9187\n",
      "Epoch 16: saving model to ./trained_model\\model.ckpt\n",
      "41/41 [==============================] - 2s 58ms/step - loss: 0.2702 - accuracy: 0.9146 - val_loss: 0.4108 - val_accuracy: 0.9500\n",
      "Epoch 17/30\n",
      "40/41 [============================>.] - ETA: 0s - loss: 0.2167 - accuracy: 0.9250\n",
      "Epoch 17: saving model to ./trained_model\\model.ckpt\n",
      "41/41 [==============================] - 2s 53ms/step - loss: 0.2118 - accuracy: 0.9268 - val_loss: 0.3070 - val_accuracy: 0.9000\n",
      "Epoch 18/30\n",
      "41/41 [==============================] - ETA: 0s - loss: 0.0818 - accuracy: 0.9817\n",
      "Epoch 18: saving model to ./trained_model\\model.ckpt\n",
      "41/41 [==============================] - 2s 58ms/step - loss: 0.0818 - accuracy: 0.9817 - val_loss: 0.4156 - val_accuracy: 0.9000\n",
      "Epoch 19/30\n",
      "40/41 [============================>.] - ETA: 0s - loss: 0.1397 - accuracy: 0.9620\n",
      "Epoch 19: saving model to ./trained_model\\model.ckpt\n",
      "41/41 [==============================] - 2s 53ms/step - loss: 0.1530 - accuracy: 0.9568 - val_loss: 0.1065 - val_accuracy: 1.0000\n",
      "Epoch 20/30\n",
      "40/41 [============================>.] - ETA: 0s - loss: 0.0731 - accuracy: 0.9810\n",
      "Epoch 20: saving model to ./trained_model\\model.ckpt\n",
      "41/41 [==============================] - 2s 57ms/step - loss: 0.0714 - accuracy: 0.9815 - val_loss: 0.3004 - val_accuracy: 0.9500\n",
      "Epoch 21/30\n",
      "40/41 [============================>.] - ETA: 0s - loss: 0.0947 - accuracy: 0.9684\n",
      "Epoch 21: saving model to ./trained_model\\model.ckpt\n",
      "41/41 [==============================] - 2s 54ms/step - loss: 0.0978 - accuracy: 0.9691 - val_loss: 0.7682 - val_accuracy: 0.8000\n",
      "Epoch 22/30\n",
      "41/41 [==============================] - ETA: 0s - loss: 0.0631 - accuracy: 0.9815\n",
      "Epoch 22: saving model to ./trained_model\\model.ckpt\n",
      "41/41 [==============================] - 2s 52ms/step - loss: 0.0631 - accuracy: 0.9815 - val_loss: 0.3004 - val_accuracy: 0.9500\n",
      "Epoch 23/30\n",
      "40/41 [============================>.] - ETA: 0s - loss: 0.0317 - accuracy: 0.9937\n",
      "Epoch 23: saving model to ./trained_model\\model.ckpt\n",
      "41/41 [==============================] - 2s 54ms/step - loss: 0.0309 - accuracy: 0.9939 - val_loss: 0.2791 - val_accuracy: 0.9500\n",
      "Epoch 24/30\n",
      "41/41 [==============================] - ETA: 0s - loss: 0.0212 - accuracy: 0.9938\n",
      "Epoch 24: saving model to ./trained_model\\model.ckpt\n",
      "41/41 [==============================] - 2s 52ms/step - loss: 0.0212 - accuracy: 0.9938 - val_loss: 0.0180 - val_accuracy: 1.0000\n",
      "Epoch 25/30\n",
      "40/41 [============================>.] - ETA: 0s - loss: 0.0164 - accuracy: 0.9937\n",
      "Epoch 25: saving model to ./trained_model\\model.ckpt\n",
      "41/41 [==============================] - 2s 58ms/step - loss: 0.0162 - accuracy: 0.9938 - val_loss: 0.0258 - val_accuracy: 1.0000\n",
      "Epoch 26/30\n",
      "40/41 [============================>.] - ETA: 0s - loss: 0.0105 - accuracy: 1.0000\n",
      "Epoch 26: saving model to ./trained_model\\model.ckpt\n",
      "41/41 [==============================] - 2s 52ms/step - loss: 0.0104 - accuracy: 1.0000 - val_loss: 0.3761 - val_accuracy: 0.9500\n",
      "Epoch 27/30\n",
      "41/41 [==============================] - ETA: 0s - loss: 0.0140 - accuracy: 0.9938\n",
      "Epoch 27: saving model to ./trained_model\\model.ckpt\n",
      "41/41 [==============================] - 2s 56ms/step - loss: 0.0140 - accuracy: 0.9938 - val_loss: 0.3351 - val_accuracy: 0.9500\n",
      "Epoch 28/30\n",
      "41/41 [==============================] - ETA: 0s - loss: 0.0414 - accuracy: 0.9817\n",
      "Epoch 28: saving model to ./trained_model\\model.ckpt\n",
      "41/41 [==============================] - 2s 52ms/step - loss: 0.0414 - accuracy: 0.9817 - val_loss: 0.2315 - val_accuracy: 0.9500\n",
      "Epoch 29/30\n",
      "41/41 [==============================] - ETA: 0s - loss: 0.0178 - accuracy: 1.0000\n",
      "Epoch 29: saving model to ./trained_model\\model.ckpt\n",
      "41/41 [==============================] - 2s 54ms/step - loss: 0.0178 - accuracy: 1.0000 - val_loss: 0.0063 - val_accuracy: 1.0000\n",
      "Epoch 30/30\n",
      "40/41 [============================>.] - ETA: 0s - loss: 0.0136 - accuracy: 1.0000\n",
      "Epoch 30: saving model to ./trained_model\\model.ckpt\n",
      "41/41 [==============================] - 2s 54ms/step - loss: 0.0133 - accuracy: 1.0000 - val_loss: 0.0323 - val_accuracy: 1.0000\n"
     ]
    },
    {
     "data": {
      "text/plain": [
       "<keras.callbacks.History at 0x1c6050e1d50>"
      ]
     },
     "execution_count": 123,
     "metadata": {},
     "output_type": "execute_result"
    }
   ],
   "source": [
    "model = create_model()\n",
    "\n",
    "model.save_weights(checkpoint_path.format(epoch=0))\n",
    "\n",
    "model.fit(\n",
    "      train_generator,\n",
    "      epochs=epochs,\n",
    "      steps_per_epoch=total_train//batch_size,\n",
    "      validation_data=validation_generator,\n",
    "      validation_steps=total_test//batch_size, \n",
    "      callbacks=[cp_callback]\n",
    "      )"
   ]
  },
  {
   "cell_type": "code",
   "execution_count": 124,
   "metadata": {},
   "outputs": [
    {
     "data": {
      "image/png": "[encoded data removed]",
      "text/plain": [
       "<Figure size 640x480 with 1 Axes>"
      ]
     },
     "metadata": {},
     "output_type": "display_data"
    }
   ],
   "source": [
    "import matplotlib.pyplot as plt\n",
    "\n",
    "plt.plot(model.history.history['accuracy'])\n",
    "plt.plot(model.history.history['val_accuracy'])\n",
    "plt.title('Model accuracy')\n",
    "plt.ylabel('Accuracy')\n",
    "plt.xlabel('Epoch')\n",
    "plt.legend(['Train', 'Test'], loc='upper left')\n",
    "plt.show()"
   ]
  },
  {
   "cell_type": "code",
   "execution_count": 125,
   "metadata": {},
   "outputs": [
    {
     "data": {
      "image/png": "[encoded data removed]",
      "text/plain": [
       "<Figure size 640x480 with 1 Axes>"
      ]
     },
     "metadata": {},
     "output_type": "display_data"
    }
   ],
   "source": [
    "plt.plot(model.history.history['loss'])\n",
    "plt.plot(model.history.history['val_loss'])\n",
    "plt.title('Model Loss')\n",
    "plt.ylabel('Loss')\n",
    "plt.xlabel('Epoch')\n",
    "plt.legend(['Train', 'Test'], loc='upper left')\n",
    "plt.show()"
   ]
  },
  {
   "cell_type": "code",
   "execution_count": 126,
   "metadata": {},
   "outputs": [],
   "source": [
    "model.save_weights('./trained_model/weights.h5')\n",
    "model.save('./trained_model/model.h5')"
   ]
  },
  {
   "cell_type": "markdown",
   "metadata": {},
   "source": [
    "<h2>Load Model</h2>"
   ]
  },
  {
   "cell_type": "code",
   "execution_count": 127,
   "metadata": {},
   "outputs": [],
   "source": [
    "reconstructed_model = tf.keras.models.load_model('./trained_model/model.h5')"
   ]
  },
  {
   "cell_type": "markdown",
   "metadata": {},
   "source": [
    "<h2>Predicting an Image</h2>"
   ]
  },
  {
   "cell_type": "code",
   "execution_count": 149,
   "metadata": {},
   "outputs": [
    {
     "name": "stdout",
     "output_type": "stream",
     "text": [
      "1/1 [==============================] - 0s 24ms/step\n",
      "[[8.5094181e-24 4.3271340e-02 1.0000000e+00 1.0000000e+00 2.3608657e-29]]\n",
      "nezuko\n"
     ]
    }
   ],
   "source": [
    "from keras.utils import load_img, img_to_array\n",
    "\n",
    "img = load_img('../dataset/processed/tanjirou/15.png', target_size=img_size)\n",
    "img = img_to_array(img)\n",
    "img = np.expand_dims(img, axis=0)\n",
    "class_list = os.listdir(train_dir)\n",
    "prediction = reconstructed_model.predict(img)\n",
    "print(prediction)\n",
    "for j in range(5):\n",
    "    if prediction[0][j] == 1. :\n",
    "        print(class_list[j])\n",
    "        break"
   ]
  },
  {
   "cell_type": "code",
   "execution_count": 148,
   "metadata": {},
   "outputs": [
    {
     "name": "stdout",
     "output_type": "stream",
     "text": [
      "1/1 [==============================] - 0s 21ms/step\n",
      "This image most likely belongs to tanjirou with a 40.46 percent confidence.\n",
      "[[0. 0. 0. 1. 0.]]\n"
     ]
    }
   ],
   "source": [
    "# import requests\n",
    "# from io import BytesIO\n",
    "\n",
    "# response = requests.get('https://img.okezone.com/content/2021/02/24/194/2367275/makna-mendalam-motif-batik-mega-mendung-yyHMjm5xCF.jpg')\n",
    "\n",
    "# img = tf.keras.utils.load_img(\n",
    "#     BytesIO(response.content), target_size=(img_height, img_width)\n",
    "# )\n",
    "# img = img_to_array(img)\n",
    "img = load_img('../dataset/processed/tanjirou/15.png', target_size=img_size)\n",
    "img = img_to_array(img)\n",
    "img = np.expand_dims(img, axis=0)\n",
    "\n",
    "predictions = model.predict(img)\n",
    "score = tf.nn.softmax(predictions[0])\n",
    "\n",
    "print(\n",
    "    \"This image most likely belongs to {} with a {:.2f} percent confidence.\"\n",
    "    .format(class_list[np.argmax(score)], 100 * np.max(score))\n",
    ")\n",
    "print(predictions)"
   ]
  },
  {
   "attachments": {},
   "cell_type": "markdown",
   "metadata": {},
   "source": [
    "## K-Fold Cross Validation"
   ]
  },
  {
   "cell_type": "code",
   "execution_count": 130,
   "metadata": {},
   "outputs": [
    {
     "name": "stdout",
     "output_type": "stream",
     "text": [
      "Found 258 files belonging to 5 classes.\n",
      "Score for fold 1: loss of 7.1174397468566895; accuracy of 50.0%\n",
      "Score for fold 2: loss of 0.00777810625731945; accuracy of 100.0%\n",
      "Score for fold 3: loss of 1.9868208767093165e-07; accuracy of 100.0%\n",
      "Score for fold 4: loss of 0.0; accuracy of 100.0%\n",
      "Score for fold 5: loss of 1.1920926823449918e-07; accuracy of 100.0%\n",
      "Score for fold 6: loss of 8.344641742041858e-07; accuracy of 100.0%\n",
      "Score for fold 7: loss of 0.0; accuracy of 100.0%\n",
      "Score for fold 8: loss of 1.271563291993516e-06; accuracy of 100.0%\n",
      "Score for fold 9: loss of 0.0; accuracy of 100.0%\n",
      "Score for fold 10: loss of 1.271563291993516e-06; accuracy of 100.0%\n",
      "Accuracy: 95.0\n",
      "Loss: 0.7125221548596123\n"
     ]
    }
   ],
   "source": [
    "from sklearn.model_selection import KFold\n",
    "import tensorflow_datasets as tfds\n",
    "\n",
    "num_folds = 10\n",
    "\n",
    "kfold = KFold(n_splits=num_folds, shuffle=True)\n",
    "dataset_dir = '../dataset/processed/'\n",
    "\n",
    "dataset = tf.keras.utils.image_dataset_from_directory(\n",
    "  dataset_dir,\n",
    "  image_size=(img_height, img_width),)\n",
    "\n",
    "# dataset = dataset.map(lambda x, y: (normalization_layer(x), y))\n",
    "dataset = tfds.as_numpy(dataset)\n",
    "\n",
    "inputs = next(iter(dataset))[0]\n",
    "targets = next(iter(dataset))[1]\n",
    "\n",
    "# Define per-fold score containers\n",
    "acc_per_fold = []\n",
    "loss_per_fold = []\n",
    "\n",
    "fold_no = 1\n",
    "for train, test in kfold.split(inputs, targets):\n",
    "  history = reconstructed_model.fit(\n",
    "    inputs[train],\n",
    "    targets[train],\n",
    "    epochs=epochs,\n",
    "    verbose=0\n",
    "  )\n",
    "\n",
    "  # Generate generalization metrics\n",
    "  scores = reconstructed_model.evaluate(inputs[test], targets[test], verbose=0)\n",
    "  acc_per_fold.append(scores[1] * 100)\n",
    "  loss_per_fold.append(scores[0])\n",
    "\n",
    "  print(f'Score for fold {fold_no}: {reconstructed_model.metrics_names[0]} of {scores[0]}; {reconstructed_model.metrics_names[1]} of {scores[1]*100}%')\n",
    "\n",
    "  # Increase fold number\n",
    "  fold_no = fold_no + 1\n",
    "\n",
    "print(f'Accuracy: {np.mean(acc_per_fold)}')\n",
    "print(f'Loss: {np.mean(loss_per_fold)}')"
   ]
  }
 ],
 "metadata": {
  "kernelspec": {
   "display_name": "Python 3.10.6 64-bit",
   "language": "python",
   "name": "python3"
  },
  "language_info": {
   "codemirror_mode": {
    "name": "ipython",
    "version": 3
   },
   "file_extension": ".py",
   "mimetype": "text/x-python",
   "name": "python",
   "nbconvert_exporter": "python",
   "pygments_lexer": "ipython3",
   "version": "3.11.3"
  },
  "orig_nbformat": 4,
  "vscode": {
   "interpreter": {
    "hash": "12ad04600b7f7e1eb247062de464ce748843089d4f432d5c4a03e63726821772"
   }
  }
 },
 "nbformat": 4,
 "nbformat_minor": 2
}
