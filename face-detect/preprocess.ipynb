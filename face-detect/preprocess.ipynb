{
 "cells": [
  {
   "cell_type": "code",
   "execution_count": 2,
   "metadata": {},
   "outputs": [],
   "source": [
    "import cv2\n",
    "import sys\n",
    "import os\n",
    "import numpy as np"
   ]
  },
  {
   "cell_type": "code",
   "execution_count": 3,
   "metadata": {},
   "outputs": [],
   "source": [
    "def crop(filename):\n",
    "    image = cv2.imread(filename, cv2.IMREAD_COLOR)\n",
    "    \n",
    "    fname = filename.split('/')[-1]\n",
    "    fname = fname[12:]\n",
    "    \n",
    "    character = fname.split('\\\\')[0]\n",
    "    \n",
    "    if not os.path.exists(f'../dataset/processed/{character}'):\n",
    "        os.mkdir(f'../dataset/processed/{character}')\n",
    "\n",
    "    height, width = image.shape[0], image.shape[1]\n",
    "        \n",
    "    if height == width:\n",
    "        cv2.imwrite(f\"../dataset/processed/{fname}\", image)\n",
    "        return None\n",
    "    \n",
    "    \n",
    "    dimension = height if height < width else width\n",
    "    top = (height // 2) - (dimension // 2)\n",
    "    bottom = (height // 2) + (dimension // 2)\n",
    "    left = (width // 2) - (dimension // 2)\n",
    "    right = (width // 2) + (dimension // 2)\n",
    "    \n",
    "    crop_img = image[top:bottom, left:right]\n",
    "    \n",
    "    cv2.imwrite(f\"../dataset/processed/{fname}\", crop_img)"
   ]
  },
  {
   "cell_type": "code",
   "execution_count": 4,
   "metadata": {},
   "outputs": [],
   "source": [
    "directory = '../dataset/unprocessed'\n",
    "\n",
    "for root, dirs, files in os.walk(directory):\n",
    "    for filename in files:\n",
    "        f = os.path.join(root, filename)\n",
    "        crop(f)"
   ]
  },
  {
   "cell_type": "code",
   "execution_count": null,
   "metadata": {},
   "outputs": [],
   "source": []
  }
 ],
 "metadata": {
  "kernelspec": {
   "display_name": "Python 3.10.6 64-bit",
   "language": "python",
   "name": "python3"
  },
  "language_info": {
   "codemirror_mode": {
    "name": "ipython",
    "version": 3
   },
   "file_extension": ".py",
   "mimetype": "text/x-python",
   "name": "python",
   "nbconvert_exporter": "python",
   "pygments_lexer": "ipython3",
   "version": "3.10.6"
  },
  "orig_nbformat": 4,
  "vscode": {
   "interpreter": {
    "hash": "12ad04600b7f7e1eb247062de464ce748843089d4f432d5c4a03e63726821772"
   }
  }
 },
 "nbformat": 4,
 "nbformat_minor": 2
}
