{
 "cells": [
  {
   "cell_type": "code",
   "execution_count": 1,
   "metadata": {},
   "outputs": [],
   "source": [
    "import pandas as pd\n",
    "import numpy as np\n",
    "import tensorflow as tf"
   ]
  },
  {
   "cell_type": "code",
   "execution_count": 2,
   "metadata": {},
   "outputs": [],
   "source": [
    "import os\n",
    "\n",
    "base_dir = './'\n",
    "train_dir = os.path.join(base_dir, '../dataset/processed')\n",
    "validation_dir = os.path.join(base_dir, '../dataset/test')\n"
   ]
  },
  {
   "cell_type": "code",
   "execution_count": 3,
   "metadata": {},
   "outputs": [],
   "source": [
    "batch_size = 2\n",
    "total_train = 188\n",
    "total_test = 24"
   ]
  },
  {
   "cell_type": "code",
   "execution_count": 4,
   "metadata": {},
   "outputs": [],
   "source": [
    "from keras.preprocessing.image import ImageDataGenerator\n",
    "\n",
    "train_datagen = ImageDataGenerator(\n",
    "        rescale=1./255,\n",
    "        rotation_range=20,\n",
    "        horizontal_flip=True,\n",
    "        shear_range = 0.2,\n",
    "        fill_mode='nearest'\n",
    "      )\n",
    "\n",
    "test_datagen = ImageDataGenerator(rescale=1./255)"
   ]
  },
  {
   "cell_type": "code",
   "execution_count": 5,
   "metadata": {},
   "outputs": [
    {
     "name": "stdout",
     "output_type": "stream",
     "text": [
      "Found 188 images belonging to 5 classes.\n",
      "Found 24 images belonging to 5 classes.\n"
     ]
    }
   ],
   "source": [
    "train_generator = train_datagen.flow_from_directory(\n",
    "    train_dir,\n",
    "    target_size=(150, 150),\n",
    "    batch_size=batch_size,\n",
    "    class_mode='categorical'\n",
    ")\n",
    "\n",
    "validation_generator = test_datagen.flow_from_directory(\n",
    "    validation_dir,\n",
    "    target_size=(150, 150),\n",
    "    batch_size=batch_size,\n",
    "    class_mode='categorical'\n",
    ")"
   ]
  },
  {
   "cell_type": "code",
   "execution_count": 6,
   "metadata": {},
   "outputs": [],
   "source": [
    "def create_model():\n",
    "    model = tf.keras.models.Sequential([\n",
    "        tf.keras.layers.Conv2D(32, (3,3), activation='relu', input_shape=(150, 150, 3)),\n",
    "        tf.keras.layers.MaxPooling2D(2, 2),\n",
    "\n",
    "        tf.keras.layers.Conv2D(64, (3,3), activation='relu'),\n",
    "        tf.keras.layers.MaxPooling2D(2, 2),\n",
    "\n",
    "        tf.keras.layers.Conv2D(128, (3,3), activation='relu'),\n",
    "        tf.keras.layers.MaxPooling2D(2, 2),\n",
    "\n",
    "        tf.keras.layers.Flatten(),\n",
    "        tf.keras.layers.Dense(128, activation='relu'),\n",
    "        tf.keras.layers.Dense(5, activation='sigmoid')\n",
    "    ])\n",
    "\n",
    "    model.compile(loss='categorical_crossentropy',\n",
    "              optimizer='adam',\n",
    "              metrics=['accuracy'])\n",
    "  \n",
    "    return model"
   ]
  },
  {
   "cell_type": "code",
   "execution_count": 7,
   "metadata": {},
   "outputs": [],
   "source": [
    "checkpoint_path = './trained_model/model.ckpt'\n",
    "checkpoint_dir = os.path.dirname(checkpoint_path)\n",
    "cp_callback = tf.keras.callbacks.ModelCheckpoint(filepath=checkpoint_path, save_weights_only=True, verbose=1)"
   ]
  },
  {
   "cell_type": "code",
   "execution_count": 8,
   "metadata": {},
   "outputs": [
    {
     "name": "stdout",
     "output_type": "stream",
     "text": [
      "Epoch 1/20\n",
      "42/42 [==============================] - ETA: 0s - loss: 1.5279 - accuracy: 0.5119\n",
      "Epoch 1: saving model to ./trained_model\\model.ckpt\n",
      "42/42 [==============================] - 7s 144ms/step - loss: 1.5279 - accuracy: 0.5119 - val_loss: 1.3910 - val_accuracy: 0.5000\n",
      "Epoch 2/20\n",
      "42/42 [==============================] - ETA: 0s - loss: 1.2386 - accuracy: 0.6071\n",
      "Epoch 2: saving model to ./trained_model\\model.ckpt\n",
      "42/42 [==============================] - 7s 178ms/step - loss: 1.2386 - accuracy: 0.6071 - val_loss: 1.4354 - val_accuracy: 0.4286\n",
      "Epoch 3/20\n",
      "42/42 [==============================] - ETA: 0s - loss: 1.3069 - accuracy: 0.5714\n",
      "Epoch 3: saving model to ./trained_model\\model.ckpt\n",
      "42/42 [==============================] - 7s 158ms/step - loss: 1.3069 - accuracy: 0.5714 - val_loss: 1.2062 - val_accuracy: 0.5000\n",
      "Epoch 4/20\n",
      "42/42 [==============================] - ETA: 0s - loss: 0.9731 - accuracy: 0.6786\n",
      "Epoch 4: saving model to ./trained_model\\model.ckpt\n",
      "42/42 [==============================] - 6s 150ms/step - loss: 0.9731 - accuracy: 0.6786 - val_loss: 1.1292 - val_accuracy: 0.5714\n",
      "Epoch 5/20\n",
      "42/42 [==============================] - ETA: 0s - loss: 1.0669 - accuracy: 0.6190\n",
      "Epoch 5: saving model to ./trained_model\\model.ckpt\n",
      "42/42 [==============================] - 7s 173ms/step - loss: 1.0669 - accuracy: 0.6190 - val_loss: 0.8068 - val_accuracy: 0.7857\n",
      "Epoch 6/20\n",
      "42/42 [==============================] - ETA: 0s - loss: 0.9370 - accuracy: 0.6905\n",
      "Epoch 6: saving model to ./trained_model\\model.ckpt\n",
      "42/42 [==============================] - 5s 120ms/step - loss: 0.9370 - accuracy: 0.6905 - val_loss: 0.7168 - val_accuracy: 0.7857\n",
      "Epoch 7/20\n",
      "42/42 [==============================] - ETA: 0s - loss: 0.7701 - accuracy: 0.6786\n",
      "Epoch 7: saving model to ./trained_model\\model.ckpt\n",
      "42/42 [==============================] - 5s 124ms/step - loss: 0.7701 - accuracy: 0.6786 - val_loss: 1.3742 - val_accuracy: 0.5000\n",
      "Epoch 8/20\n",
      "42/42 [==============================] - ETA: 0s - loss: 0.6936 - accuracy: 0.7262\n",
      "Epoch 8: saving model to ./trained_model\\model.ckpt\n",
      "42/42 [==============================] - 5s 121ms/step - loss: 0.6936 - accuracy: 0.7262 - val_loss: 0.7376 - val_accuracy: 0.7143\n",
      "Epoch 9/20\n",
      "42/42 [==============================] - ETA: 0s - loss: 0.4896 - accuracy: 0.8095\n",
      "Epoch 9: saving model to ./trained_model\\model.ckpt\n",
      "42/42 [==============================] - 5s 114ms/step - loss: 0.4896 - accuracy: 0.8095 - val_loss: 0.4123 - val_accuracy: 0.9286\n",
      "Epoch 10/20\n",
      "42/42 [==============================] - ETA: 0s - loss: 0.5577 - accuracy: 0.8095\n",
      "Epoch 10: saving model to ./trained_model\\model.ckpt\n",
      "42/42 [==============================] - 5s 122ms/step - loss: 0.5577 - accuracy: 0.8095 - val_loss: 0.6394 - val_accuracy: 0.8571\n",
      "Epoch 11/20\n",
      "42/42 [==============================] - ETA: 0s - loss: 0.2838 - accuracy: 0.9167\n",
      "Epoch 11: saving model to ./trained_model\\model.ckpt\n",
      "42/42 [==============================] - 5s 122ms/step - loss: 0.2838 - accuracy: 0.9167 - val_loss: 0.3251 - val_accuracy: 0.9286\n",
      "Epoch 12/20\n",
      "42/42 [==============================] - ETA: 0s - loss: 0.3898 - accuracy: 0.9048\n",
      "Epoch 12: saving model to ./trained_model\\model.ckpt\n",
      "42/42 [==============================] - 5s 118ms/step - loss: 0.3898 - accuracy: 0.9048 - val_loss: 0.4682 - val_accuracy: 0.7857\n",
      "Epoch 13/20\n",
      "42/42 [==============================] - ETA: 0s - loss: 0.2854 - accuracy: 0.8929\n",
      "Epoch 13: saving model to ./trained_model\\model.ckpt\n",
      "42/42 [==============================] - 5s 122ms/step - loss: 0.2854 - accuracy: 0.8929 - val_loss: 0.2201 - val_accuracy: 0.8571\n",
      "Epoch 14/20\n",
      "42/42 [==============================] - ETA: 0s - loss: 0.5238 - accuracy: 0.8929\n",
      "Epoch 14: saving model to ./trained_model\\model.ckpt\n",
      "42/42 [==============================] - 5s 125ms/step - loss: 0.5238 - accuracy: 0.8929 - val_loss: 0.2083 - val_accuracy: 0.9286\n",
      "Epoch 15/20\n",
      "42/42 [==============================] - ETA: 0s - loss: 0.2474 - accuracy: 0.8690\n",
      "Epoch 15: saving model to ./trained_model\\model.ckpt\n",
      "42/42 [==============================] - 5s 128ms/step - loss: 0.2474 - accuracy: 0.8690 - val_loss: 0.2135 - val_accuracy: 0.8571\n",
      "Epoch 16/20\n",
      "42/42 [==============================] - ETA: 0s - loss: 0.3548 - accuracy: 0.8929\n",
      "Epoch 16: saving model to ./trained_model\\model.ckpt\n",
      "42/42 [==============================] - 5s 120ms/step - loss: 0.3548 - accuracy: 0.8929 - val_loss: 0.2973 - val_accuracy: 0.9286\n",
      "Epoch 17/20\n",
      "42/42 [==============================] - ETA: 0s - loss: 0.1444 - accuracy: 0.9286\n",
      "Epoch 17: saving model to ./trained_model\\model.ckpt\n",
      "42/42 [==============================] - 5s 117ms/step - loss: 0.1444 - accuracy: 0.9286 - val_loss: 0.4414 - val_accuracy: 0.8571\n",
      "Epoch 18/20\n",
      "42/42 [==============================] - ETA: 0s - loss: 0.2397 - accuracy: 0.9167\n",
      "Epoch 18: saving model to ./trained_model\\model.ckpt\n",
      "42/42 [==============================] - 5s 116ms/step - loss: 0.2397 - accuracy: 0.9167 - val_loss: 1.7449 - val_accuracy: 0.6429\n",
      "Epoch 19/20\n",
      "42/42 [==============================] - ETA: 0s - loss: 0.5460 - accuracy: 0.8452\n",
      "Epoch 19: saving model to ./trained_model\\model.ckpt\n",
      "42/42 [==============================] - 5s 128ms/step - loss: 0.5460 - accuracy: 0.8452 - val_loss: 0.0899 - val_accuracy: 1.0000\n",
      "Epoch 20/20\n",
      "42/42 [==============================] - ETA: 0s - loss: 0.4350 - accuracy: 0.8810\n",
      "Epoch 20: saving model to ./trained_model\\model.ckpt\n",
      "42/42 [==============================] - 5s 128ms/step - loss: 0.4350 - accuracy: 0.8810 - val_loss: 0.3601 - val_accuracy: 0.8571\n"
     ]
    },
    {
     "data": {
      "text/plain": [
       "<keras.callbacks.History at 0x2ad39b2b8b0>"
      ]
     },
     "execution_count": 8,
     "metadata": {},
     "output_type": "execute_result"
    }
   ],
   "source": [
    "model = create_model()\n",
    "\n",
    "model.save_weights(checkpoint_path.format(epoch=0))\n",
    "\n",
    "model.fit(\n",
    "      train_generator,\n",
    "      epochs=20,\n",
    "      steps_per_epoch=total_train//batch_size,\n",
    "      validation_data=validation_generator,\n",
    "      validation_steps=total_test//batch_size, \n",
    "      callbacks=[cp_callback]\n",
    "      )"
   ]
  },
  {
   "cell_type": "code",
   "execution_count": 9,
   "metadata": {},
   "outputs": [],
   "source": [
    "model.save_weights('./trained_model/weights.h5')\n",
    "model.save('./trained_model/model.h5')"
   ]
  },
  {
   "cell_type": "code",
   "execution_count": null,
   "metadata": {},
   "outputs": [],
   "source": []
  }
 ],
 "metadata": {
  "kernelspec": {
   "display_name": "Python 3.10.6 64-bit",
   "language": "python",
   "name": "python3"
  },
  "language_info": {
   "codemirror_mode": {
    "name": "ipython",
    "version": 3
   },
   "file_extension": ".py",
   "mimetype": "text/x-python",
   "name": "python",
   "nbconvert_exporter": "python",
   "pygments_lexer": "ipython3",
   "version": "3.10.4"
  },
  "orig_nbformat": 4,
  "vscode": {
   "interpreter": {
    "hash": "12ad04600b7f7e1eb247062de464ce748843089d4f432d5c4a03e63726821772"
   }
  }
 },
 "nbformat": 4,
 "nbformat_minor": 2
}
