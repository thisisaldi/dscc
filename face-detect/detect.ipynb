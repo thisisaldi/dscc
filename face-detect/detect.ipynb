{
 "cells": [
  {
   "cell_type": "code",
   "execution_count": null,
   "metadata": {},
   "outputs": [],
   "source": [
    "import cv2\n",
    "import sys\n",
    "import os\n",
    "import numpy as np"
   ]
  },
  {
   "cell_type": "code",
   "execution_count": null,
   "metadata": {},
   "outputs": [],
   "source": [
    "def detect(filename, cascade_file=\"lbpcascade_animeface.xml\"):\n",
    "    if not os.path.isfile(cascade_file):\n",
    "        raise RuntimeError(\"%s: not found\" % cascade_file)\n",
    "\n",
    "    cascade = cv2.CascadeClassifier(cascade_file)\n",
    "    image = cv2.imread(filename, cv2.IMREAD_COLOR)\n",
    "    gray = cv2.cvtColor(image, cv2.COLOR_BGR2GRAY)\n",
    "    gray = cv2.equalizeHist(gray)\n",
    "    \n",
    "    faces = cascade.detectMultiScale(gray,\n",
    "                                     scaleFactor = 1.1,\n",
    "                                     minNeighbors = 5,\n",
    "                                     minSize = (24, 24))\n",
    "    \n",
    "    fname = filename.split('/')[-1]\n",
    "    fname = fname[12:]\n",
    "    \n",
    "    character = fname.split('\\\\')[0]\n",
    "    \n",
    "    # print(faces)\n",
    "    if not os.path.exists(f'../dataset/processed/{character}'):\n",
    "        os.mkdir(f'../dataset/processed/{character}')\n",
    "        \n",
    "    # print(len(faces), faces)\n",
    "        \n",
    "    if (image.shape[0] == image.shape[1]) or len(faces) == 0:\n",
    "        cv2.imwrite(f\"../dataset/processed/{fname}\", image)\n",
    "    else:\n",
    "        for id, (x, y, w, h) in enumerate(faces):\n",
    "\n",
    "            crop_img = image[y:y+h, x:x+w]\n",
    "            \n",
    "            cv2.imwrite(f\"../dataset/processed/{fname}\", crop_img)"
   ]
  },
  {
   "cell_type": "code",
   "execution_count": null,
   "metadata": {},
   "outputs": [],
   "source": [
    "import os\n",
    "# assign directory\n",
    "directory = '../dataset/unprocessed'\n",
    "\n",
    "# iterate over files in\n",
    "# that directory\n",
    "for root, dirs, files in os.walk(directory):\n",
    "    for filename in files:\n",
    "        f = os.path.join(root, filename)\n",
    "        detect(f)"
   ]
  },
  {
   "cell_type": "code",
   "execution_count": null,
   "metadata": {},
   "outputs": [],
   "source": []
  },
  {
   "cell_type": "code",
   "execution_count": null,
   "metadata": {},
   "outputs": [],
   "source": []
  }
 ],
 "metadata": {
  "kernelspec": {
   "display_name": "Python 3.10.6 64-bit",
   "language": "python",
   "name": "python3"
  },
  "language_info": {
   "codemirror_mode": {
    "name": "ipython",
    "version": 3
   },
   "file_extension": ".py",
   "mimetype": "text/x-python",
   "name": "python",
   "nbconvert_exporter": "python",
   "pygments_lexer": "ipython3",
   "version": "3.10.4"
  },
  "orig_nbformat": 4,
  "vscode": {
   "interpreter": {
    "hash": "12ad04600b7f7e1eb247062de464ce748843089d4f432d5c4a03e63726821772"
   }
  }
 },
 "nbformat": 4,
 "nbformat_minor": 2
}
