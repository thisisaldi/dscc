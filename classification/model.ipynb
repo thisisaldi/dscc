{
 "cells": [
  {
   "cell_type": "code",
   "execution_count": 54,
   "metadata": {},
   "outputs": [],
   "source": [
    "import pandas as pd\n",
    "import numpy as np\n",
    "import tensorflow as tf"
   ]
  },
  {
   "cell_type": "code",
   "execution_count": 55,
   "metadata": {},
   "outputs": [],
   "source": [
    "import os\n",
    "\n",
    "base_dir = './'\n",
    "train_dir = os.path.join(base_dir, '../dataset/processed')\n",
    "validation_dir = os.path.join(base_dir, '../dataset/test')\n"
   ]
  },
  {
   "cell_type": "code",
   "execution_count": 56,
   "metadata": {},
   "outputs": [],
   "source": [
    "batch_size = 2\n",
    "total_train = 84\n",
    "total_test = 14"
   ]
  },
  {
   "cell_type": "code",
   "execution_count": 57,
   "metadata": {},
   "outputs": [],
   "source": [
    "from tensorflow.keras.preprocessing.image import ImageDataGenerator\n",
    "\n",
    "train_datagen = ImageDataGenerator(\n",
    "        rescale=1./255,\n",
    "        rotation_range=20,\n",
    "        horizontal_flip=True,\n",
    "        shear_range = 0.2,\n",
    "        fill_mode='nearest'\n",
    "      )\n",
    "\n",
    "test_datagen = ImageDataGenerator(rescale=1./255)"
   ]
  },
  {
   "cell_type": "code",
   "execution_count": 58,
   "metadata": {},
   "outputs": [
    {
     "name": "stdout",
     "output_type": "stream",
     "text": [
      "Found 84 images belonging to 4 classes.\n",
      "Found 14 images belonging to 4 classes.\n"
     ]
    }
   ],
   "source": [
    "train_generator = train_datagen.flow_from_directory(\n",
    "    train_dir,\n",
    "    target_size=(150, 150),\n",
    "    batch_size=batch_size,\n",
    "    class_mode='categorical'\n",
    ")\n",
    "\n",
    "validation_generator = test_datagen.flow_from_directory(\n",
    "    validation_dir,\n",
    "    target_size=(150, 150),\n",
    "    batch_size=batch_size,\n",
    "    class_mode='categorical'\n",
    ")"
   ]
  },
  {
   "cell_type": "code",
   "execution_count": 62,
   "metadata": {},
   "outputs": [],
   "source": [
    "def create_model():\n",
    "    model = tf.keras.models.Sequential([\n",
    "        tf.keras.layers.Conv2D(32, (3,3), activation='relu', input_shape=(150, 150, 3)),\n",
    "        tf.keras.layers.MaxPooling2D(2, 2),\n",
    "\n",
    "        tf.keras.layers.Conv2D(64, (3,3), activation='relu'),\n",
    "        tf.keras.layers.MaxPooling2D(2, 2),\n",
    "\n",
    "        tf.keras.layers.Conv2D(128, (3,3), activation='relu'),\n",
    "        tf.keras.layers.MaxPooling2D(2, 2),\n",
    "\n",
    "        tf.keras.layers.Flatten(),\n",
    "        tf.keras.layers.Dense(128, activation='relu'),\n",
    "        tf.keras.layers.Dense(4, activation='sigmoid')\n",
    "    ])\n",
    "\n",
    "    model.compile(loss='categorical_crossentropy',\n",
    "              optimizer='adam',\n",
    "              metrics=['accuracy'])\n",
    "  \n",
    "    return model"
   ]
  },
  {
   "cell_type": "code",
   "execution_count": 63,
   "metadata": {},
   "outputs": [],
   "source": [
    "checkpoint_path = './trained_model/model.ckpt'\n",
    "checkpoint_dir = os.path.dirname(checkpoint_path)\n",
    "cp_callback = tf.keras.callbacks.ModelCheckpoint(filepath=checkpoint_path, save_weights_only=True, verbose=1)"
   ]
  },
  {
   "cell_type": "code",
   "execution_count": 64,
   "metadata": {},
   "outputs": [
    {
     "name": "stdout",
     "output_type": "stream",
     "text": [
      "Epoch 1/20\n",
      "42/42 [==============================] - ETA: 0s - loss: 1.4171 - accuracy: 0.3571\n",
      "Epoch 1: saving model to ./trained_model\\model.ckpt\n",
      "42/42 [==============================] - 8s 149ms/step - loss: 1.4171 - accuracy: 0.3571 - val_loss: 1.2894 - val_accuracy: 0.2857\n",
      "Epoch 2/20\n",
      "42/42 [==============================] - ETA: 0s - loss: 1.2174 - accuracy: 0.4643\n",
      "Epoch 2: saving model to ./trained_model\\model.ckpt\n",
      "42/42 [==============================] - 6s 145ms/step - loss: 1.2174 - accuracy: 0.4643 - val_loss: 1.0984 - val_accuracy: 0.5714\n",
      "Epoch 3/20\n",
      "42/42 [==============================] - ETA: 0s - loss: 0.5885 - accuracy: 0.7738\n",
      "Epoch 3: saving model to ./trained_model\\model.ckpt\n",
      "42/42 [==============================] - 6s 132ms/step - loss: 0.5885 - accuracy: 0.7738 - val_loss: 0.6352 - val_accuracy: 0.7857\n",
      "Epoch 4/20\n",
      "42/42 [==============================] - ETA: 0s - loss: 0.5046 - accuracy: 0.8095\n",
      "Epoch 4: saving model to ./trained_model\\model.ckpt\n",
      "42/42 [==============================] - 6s 131ms/step - loss: 0.5046 - accuracy: 0.8095 - val_loss: 0.4232 - val_accuracy: 0.7857\n",
      "Epoch 5/20\n",
      "42/42 [==============================] - ETA: 0s - loss: 0.2192 - accuracy: 0.9167\n",
      "Epoch 5: saving model to ./trained_model\\model.ckpt\n",
      "42/42 [==============================] - 6s 134ms/step - loss: 0.2192 - accuracy: 0.9167 - val_loss: 0.5328 - val_accuracy: 0.8571\n",
      "Epoch 6/20\n",
      "42/42 [==============================] - ETA: 0s - loss: 0.3987 - accuracy: 0.8571\n",
      "Epoch 6: saving model to ./trained_model\\model.ckpt\n",
      "42/42 [==============================] - 6s 140ms/step - loss: 0.3987 - accuracy: 0.8571 - val_loss: 0.2179 - val_accuracy: 0.9286\n",
      "Epoch 7/20\n",
      "42/42 [==============================] - ETA: 0s - loss: 0.3045 - accuracy: 0.9167\n",
      "Epoch 7: saving model to ./trained_model\\model.ckpt\n",
      "42/42 [==============================] - 6s 137ms/step - loss: 0.3045 - accuracy: 0.9167 - val_loss: 0.7296 - val_accuracy: 0.5714\n",
      "Epoch 8/20\n",
      "42/42 [==============================] - ETA: 0s - loss: 0.1820 - accuracy: 0.9524\n",
      "Epoch 8: saving model to ./trained_model\\model.ckpt\n",
      "42/42 [==============================] - 6s 138ms/step - loss: 0.1820 - accuracy: 0.9524 - val_loss: 0.4360 - val_accuracy: 0.8571\n",
      "Epoch 9/20\n",
      "42/42 [==============================] - ETA: 0s - loss: 0.1319 - accuracy: 0.9286\n",
      "Epoch 9: saving model to ./trained_model\\model.ckpt\n",
      "42/42 [==============================] - 6s 153ms/step - loss: 0.1319 - accuracy: 0.9286 - val_loss: 0.2829 - val_accuracy: 0.9286\n",
      "Epoch 10/20\n",
      "42/42 [==============================] - ETA: 0s - loss: 0.1098 - accuracy: 0.9643\n",
      "Epoch 10: saving model to ./trained_model\\model.ckpt\n",
      "42/42 [==============================] - 6s 142ms/step - loss: 0.1098 - accuracy: 0.9643 - val_loss: 0.3306 - val_accuracy: 0.8571\n",
      "Epoch 11/20\n",
      "42/42 [==============================] - ETA: 0s - loss: 0.0473 - accuracy: 0.9881\n",
      "Epoch 11: saving model to ./trained_model\\model.ckpt\n",
      "42/42 [==============================] - 6s 133ms/step - loss: 0.0473 - accuracy: 0.9881 - val_loss: 0.2936 - val_accuracy: 0.8571\n",
      "Epoch 12/20\n",
      "42/42 [==============================] - ETA: 0s - loss: 0.0247 - accuracy: 0.9881\n",
      "Epoch 12: saving model to ./trained_model\\model.ckpt\n",
      "42/42 [==============================] - 6s 143ms/step - loss: 0.0247 - accuracy: 0.9881 - val_loss: 0.2802 - val_accuracy: 0.8571\n",
      "Epoch 13/20\n",
      "42/42 [==============================] - ETA: 0s - loss: 0.0118 - accuracy: 1.0000\n",
      "Epoch 13: saving model to ./trained_model\\model.ckpt\n",
      "42/42 [==============================] - 6s 149ms/step - loss: 0.0118 - accuracy: 1.0000 - val_loss: 0.1846 - val_accuracy: 0.9286\n",
      "Epoch 14/20\n",
      "42/42 [==============================] - ETA: 0s - loss: 0.0686 - accuracy: 0.9762\n",
      "Epoch 14: saving model to ./trained_model\\model.ckpt\n",
      "42/42 [==============================] - 6s 150ms/step - loss: 0.0686 - accuracy: 0.9762 - val_loss: 0.1935 - val_accuracy: 0.9286\n",
      "Epoch 15/20\n",
      "42/42 [==============================] - ETA: 0s - loss: 0.5393 - accuracy: 0.8929\n",
      "Epoch 15: saving model to ./trained_model\\model.ckpt\n",
      "42/42 [==============================] - 6s 150ms/step - loss: 0.5393 - accuracy: 0.8929 - val_loss: 0.6539 - val_accuracy: 0.8571\n",
      "Epoch 16/20\n",
      "42/42 [==============================] - ETA: 0s - loss: 0.1274 - accuracy: 0.9405\n",
      "Epoch 16: saving model to ./trained_model\\model.ckpt\n",
      "42/42 [==============================] - 6s 142ms/step - loss: 0.1274 - accuracy: 0.9405 - val_loss: 0.6877 - val_accuracy: 0.7143\n",
      "Epoch 17/20\n",
      "42/42 [==============================] - ETA: 0s - loss: 0.1170 - accuracy: 0.9286\n",
      "Epoch 17: saving model to ./trained_model\\model.ckpt\n",
      "42/42 [==============================] - 7s 155ms/step - loss: 0.1170 - accuracy: 0.9286 - val_loss: 0.6344 - val_accuracy: 0.7857\n",
      "Epoch 18/20\n",
      "42/42 [==============================] - ETA: 0s - loss: 0.0335 - accuracy: 0.9881\n",
      "Epoch 18: saving model to ./trained_model\\model.ckpt\n",
      "42/42 [==============================] - 6s 151ms/step - loss: 0.0335 - accuracy: 0.9881 - val_loss: 0.1431 - val_accuracy: 0.9286\n",
      "Epoch 19/20\n",
      "42/42 [==============================] - ETA: 0s - loss: 0.0095 - accuracy: 1.0000\n",
      "Epoch 19: saving model to ./trained_model\\model.ckpt\n",
      "42/42 [==============================] - 6s 147ms/step - loss: 0.0095 - accuracy: 1.0000 - val_loss: 0.1480 - val_accuracy: 0.9286\n",
      "Epoch 20/20\n",
      "42/42 [==============================] - ETA: 0s - loss: 0.0319 - accuracy: 0.9881\n",
      "Epoch 20: saving model to ./trained_model\\model.ckpt\n",
      "42/42 [==============================] - 6s 132ms/step - loss: 0.0319 - accuracy: 0.9881 - val_loss: 0.1537 - val_accuracy: 0.9286\n"
     ]
    },
    {
     "data": {
      "text/plain": [
       "<keras.callbacks.History at 0x22c8485a0b0>"
      ]
     },
     "execution_count": 64,
     "metadata": {},
     "output_type": "execute_result"
    }
   ],
   "source": [
    "model = create_model()\n",
    "\n",
    "model.save_weights(checkpoint_path.format(epoch=0))\n",
    "\n",
    "model.fit(\n",
    "      train_generator,\n",
    "      epochs=20,\n",
    "      steps_per_epoch=total_train//batch_size,\n",
    "      validation_data=validation_generator,\n",
    "      validation_steps=total_test//batch_size, \n",
    "      callbacks=[cp_callback]\n",
    "      )"
   ]
  },
  {
   "cell_type": "code",
   "execution_count": null,
   "metadata": {},
   "outputs": [],
   "source": [
    "model.save_weights('./trained_model/weights.h5')\n",
    "model.save('./trained_model/model.h5')"
   ]
  },
  {
   "cell_type": "code",
   "execution_count": null,
   "metadata": {},
   "outputs": [],
   "source": []
  }
 ],
 "metadata": {
  "kernelspec": {
   "display_name": "Python 3.10.6 64-bit",
   "language": "python",
   "name": "python3"
  },
  "language_info": {
   "codemirror_mode": {
    "name": "ipython",
    "version": 3
   },
   "file_extension": ".py",
   "mimetype": "text/x-python",
   "name": "python",
   "nbconvert_exporter": "python",
   "pygments_lexer": "ipython3",
   "version": "3.10.6"
  },
  "orig_nbformat": 4,
  "vscode": {
   "interpreter": {
    "hash": "12ad04600b7f7e1eb247062de464ce748843089d4f432d5c4a03e63726821772"
   }
  }
 },
 "nbformat": 4,
 "nbformat_minor": 2
}
