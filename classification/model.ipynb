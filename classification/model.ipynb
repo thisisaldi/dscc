{
 "cells": [
  {
   "cell_type": "code",
   "execution_count": 29,
   "metadata": {},
   "outputs": [],
   "source": [
    "import pandas as pd\n",
    "import numpy as np\n",
    "import tensorflow as tf"
   ]
  },
  {
   "cell_type": "code",
   "execution_count": 30,
   "metadata": {},
   "outputs": [],
   "source": [
    "import os\n",
    "\n",
    "base_dir = './'\n",
    "train_dir = os.path.join(base_dir, '../dataset/processed')\n",
    "validation_dir = os.path.join(base_dir, '../dataset/test')\n"
   ]
  },
  {
   "cell_type": "code",
   "execution_count": 37,
   "metadata": {},
   "outputs": [],
   "source": [
    "batch_size = 4\n",
    "total_train = 396\n",
    "total_test = 24\n",
    "img_size = (img_width, img_height) = (128, 128)\n",
    "epochs = 10"
   ]
  },
  {
   "cell_type": "code",
   "execution_count": 32,
   "metadata": {},
   "outputs": [],
   "source": [
    "from keras.preprocessing.image import ImageDataGenerator\n",
    "\n",
    "train_datagen = ImageDataGenerator(\n",
    "        rescale=1./255,\n",
    "        rotation_range=20,\n",
    "        horizontal_flip=True,\n",
    "        shear_range = 0.2,\n",
    "        fill_mode='nearest'\n",
    "      )\n",
    "\n",
    "test_datagen = ImageDataGenerator(rescale=1./255)"
   ]
  },
  {
   "cell_type": "code",
   "execution_count": 33,
   "metadata": {},
   "outputs": [
    {
     "name": "stdout",
     "output_type": "stream",
     "text": [
      "Found 396 images belonging to 4 classes.\n",
      "Found 24 images belonging to 4 classes.\n"
     ]
    }
   ],
   "source": [
    "class_mode = 'sparse'\n",
    "\n",
    "train_generator = train_datagen.flow_from_directory(\n",
    "    train_dir,\n",
    "    target_size=img_size,\n",
    "    batch_size=batch_size,\n",
    "    class_mode=class_mode\n",
    ")\n",
    "\n",
    "validation_generator = test_datagen.flow_from_directory(\n",
    "    validation_dir,\n",
    "    target_size=img_size,\n",
    "    batch_size=batch_size,\n",
    "    class_mode=class_mode\n",
    ")"
   ]
  },
  {
   "cell_type": "code",
   "execution_count": 46,
   "metadata": {},
   "outputs": [],
   "source": [
    "def create_model():\n",
    "    model = tf.keras.models.Sequential([\n",
    "        tf.keras.layers.Conv2D(64, (3,3), activation='relu', input_shape=(img_width, img_height, 3)),\n",
    "        tf.keras.layers.MaxPooling2D(2, 2),\n",
    "\n",
    "        tf.keras.layers.Conv2D(64, (3,3), activation='relu'),\n",
    "        tf.keras.layers.MaxPooling2D(2, 2),\n",
    "\n",
    "        tf.keras.layers.Conv2D(32, (3,3), activation='relu'),\n",
    "        tf.keras.layers.MaxPooling2D(2, 2),\n",
    "\n",
    "        tf.keras.layers.Flatten(),\n",
    "        tf.keras.layers.Dense(256, activation='relu'),\n",
    "        tf.keras.layers.Dense(5, activation='softmax')\n",
    "    ])\n",
    "\n",
    "    model.compile(loss='sparse_categorical_crossentropy',\n",
    "              optimizer='adam',\n",
    "              metrics=['accuracy'])\n",
    "  \n",
    "    return model"
   ]
  },
  {
   "cell_type": "code",
   "execution_count": 47,
   "metadata": {},
   "outputs": [],
   "source": [
    "checkpoint_path = './trained_model/model.ckpt'\n",
    "checkpoint_dir = os.path.dirname(checkpoint_path)\n",
    "cp_callback = tf.keras.callbacks.ModelCheckpoint(filepath=checkpoint_path, save_weights_only=True, verbose=1)"
   ]
  },
  {
   "cell_type": "code",
   "execution_count": 48,
   "metadata": {},
   "outputs": [
    {
     "name": "stdout",
     "output_type": "stream",
     "text": [
      "Epoch 1/10\n",
      "99/99 [==============================] - ETA: 0s - loss: 1.3893 - accuracy: 0.3207\n",
      "Epoch 1: saving model to ./trained_model\\model.ckpt\n",
      "99/99 [==============================] - 13s 118ms/step - loss: 1.3893 - accuracy: 0.3207 - val_loss: 1.3142 - val_accuracy: 0.3500\n",
      "Epoch 2/10\n",
      "99/99 [==============================] - ETA: 0s - loss: 1.0917 - accuracy: 0.5328\n",
      "Epoch 2: saving model to ./trained_model\\model.ckpt\n",
      "99/99 [==============================] - 11s 112ms/step - loss: 1.0917 - accuracy: 0.5328 - val_loss: 1.1945 - val_accuracy: 0.3000\n",
      "Epoch 3/10\n",
      "99/99 [==============================] - ETA: 0s - loss: 0.7953 - accuracy: 0.7348\n",
      "Epoch 3: saving model to ./trained_model\\model.ckpt\n",
      "99/99 [==============================] - 11s 113ms/step - loss: 0.7953 - accuracy: 0.7348 - val_loss: 0.5972 - val_accuracy: 0.8000\n",
      "Epoch 4/10\n",
      "99/99 [==============================] - ETA: 0s - loss: 0.6502 - accuracy: 0.7727\n",
      "Epoch 4: saving model to ./trained_model\\model.ckpt\n",
      "99/99 [==============================] - 12s 117ms/step - loss: 0.6502 - accuracy: 0.7727 - val_loss: 0.2416 - val_accuracy: 1.0000\n",
      "Epoch 5/10\n",
      "99/99 [==============================] - ETA: 0s - loss: 0.5235 - accuracy: 0.8030\n",
      "Epoch 5: saving model to ./trained_model\\model.ckpt\n",
      "99/99 [==============================] - 13s 136ms/step - loss: 0.5235 - accuracy: 0.8030 - val_loss: 0.2988 - val_accuracy: 0.9000\n",
      "Epoch 6/10\n",
      "99/99 [==============================] - ETA: 0s - loss: 0.4731 - accuracy: 0.8333\n",
      "Epoch 6: saving model to ./trained_model\\model.ckpt\n",
      "99/99 [==============================] - 11s 110ms/step - loss: 0.4731 - accuracy: 0.8333 - val_loss: 0.1998 - val_accuracy: 0.9500\n",
      "Epoch 7/10\n",
      "99/99 [==============================] - ETA: 0s - loss: 0.3167 - accuracy: 0.8939\n",
      "Epoch 7: saving model to ./trained_model\\model.ckpt\n",
      "99/99 [==============================] - 11s 115ms/step - loss: 0.3167 - accuracy: 0.8939 - val_loss: 0.1852 - val_accuracy: 0.9500\n",
      "Epoch 8/10\n",
      "99/99 [==============================] - ETA: 0s - loss: 0.3118 - accuracy: 0.8990\n",
      "Epoch 8: saving model to ./trained_model\\model.ckpt\n",
      "99/99 [==============================] - 11s 109ms/step - loss: 0.3118 - accuracy: 0.8990 - val_loss: 0.1490 - val_accuracy: 0.9500\n",
      "Epoch 9/10\n",
      "99/99 [==============================] - ETA: 0s - loss: 0.2460 - accuracy: 0.9066\n",
      "Epoch 9: saving model to ./trained_model\\model.ckpt\n",
      "99/99 [==============================] - 12s 123ms/step - loss: 0.2460 - accuracy: 0.9066 - val_loss: 0.0745 - val_accuracy: 1.0000\n",
      "Epoch 10/10\n",
      "99/99 [==============================] - ETA: 0s - loss: 0.2288 - accuracy: 0.9192\n",
      "Epoch 10: saving model to ./trained_model\\model.ckpt\n",
      "99/99 [==============================] - 11s 107ms/step - loss: 0.2288 - accuracy: 0.9192 - val_loss: 0.0751 - val_accuracy: 1.0000\n"
     ]
    },
    {
     "data": {
      "text/plain": [
       "<keras.callbacks.History at 0x2ca2dd56e10>"
      ]
     },
     "execution_count": 48,
     "metadata": {},
     "output_type": "execute_result"
    }
   ],
   "source": [
    "model = create_model()\n",
    "\n",
    "model.save_weights(checkpoint_path.format(epoch=0))\n",
    "\n",
    "model.fit(\n",
    "      train_generator,\n",
    "      epochs=epochs,\n",
    "      steps_per_epoch=total_train//batch_size,\n",
    "      validation_data=validation_generator,\n",
    "      validation_steps=total_test//batch_size,\n",
    "      callbacks=[cp_callback]\n",
    "      )"
   ]
  },
  {
   "cell_type": "code",
   "execution_count": 49,
   "metadata": {},
   "outputs": [
    {
     "data": {
      "image/png": "[encoded data removed]",
      "text/plain": [
       "<Figure size 640x480 with 1 Axes>"
      ]
     },
     "metadata": {},
     "output_type": "display_data"
    }
   ],
   "source": [
    "import matplotlib.pyplot as plt\n",
    "\n",
    "plt.plot(model.history.history['accuracy'])\n",
    "plt.plot(model.history.history['val_accuracy'])\n",
    "plt.title('Model accuracy')\n",
    "plt.ylabel('Accuracy')\n",
    "plt.xlabel('Epoch')\n",
    "plt.legend(['Train', 'Test'], loc='upper left')\n",
    "plt.show()"
   ]
  },
  {
   "cell_type": "code",
   "execution_count": 50,
   "metadata": {},
   "outputs": [
    {
     "data": {
      "image/png": "[encoded data removed]",
      "text/plain": [
       "<Figure size 640x480 with 1 Axes>"
      ]
     },
     "metadata": {},
     "output_type": "display_data"
    }
   ],
   "source": [
    "plt.plot(model.history.history['loss'])\n",
    "plt.plot(model.history.history['val_loss'])\n",
    "plt.title('Model Loss')\n",
    "plt.ylabel('Loss')\n",
    "plt.xlabel('Epoch')\n",
    "plt.legend(['Train', 'Test'], loc='upper left')\n",
    "plt.show()"
   ]
  },
  {
   "cell_type": "code",
   "execution_count": 51,
   "metadata": {},
   "outputs": [],
   "source": [
    "model.save_weights('./trained_model/weights.h5')\n",
    "model.save('./trained_model/model.h5')"
   ]
  },
  {
   "attachments": {},
   "cell_type": "markdown",
   "metadata": {},
   "source": [
    "<h2>Load Model</h2>"
   ]
  },
  {
   "cell_type": "code",
   "execution_count": 52,
   "metadata": {},
   "outputs": [],
   "source": [
    "reconstructed_model = tf.keras.models.load_model('./trained_model/model.h5')"
   ]
  },
  {
   "attachments": {},
   "cell_type": "markdown",
   "metadata": {},
   "source": [
    "<h2>Predicting an Image</h2>"
   ]
  },
  {
   "cell_type": "code",
   "execution_count": 53,
   "metadata": {},
   "outputs": [
    {
     "name": "stdout",
     "output_type": "stream",
     "text": [
      "1/1 [==============================] - 0s 89ms/step\n",
      "[[0. 0. 1. 0. 0.]]\n",
      "tanjirou\n"
     ]
    }
   ],
   "source": [
    "from keras.utils import load_img, img_to_array\n",
    "\n",
    "img = load_img('../dataset/processed/tanjirou/15.png', target_size=img_size)\n",
    "img = img_to_array(img)\n",
    "img = np.expand_dims(img, axis=0)\n",
    "class_list = os.listdir(train_dir)\n",
    "prediction = reconstructed_model.predict(img)\n",
    "print(prediction)\n",
    "for j in range(5):\n",
    "    if prediction[0][j] == 1. :\n",
    "        print(class_list[j])\n",
    "        break"
   ]
  },
  {
   "cell_type": "code",
   "execution_count": 54,
   "metadata": {},
   "outputs": [
    {
     "name": "stdout",
     "output_type": "stream",
     "text": [
      "1/1 [==============================] - 0s 31ms/step\n",
      "This image most likely belongs to tanjirou with a 40.46 percent confidence.\n",
      "[[0. 0. 1. 0. 0.]]\n"
     ]
    }
   ],
   "source": [
    "# import requests\n",
    "# from io import BytesIO\n",
    "\n",
    "# response = requests.get('https://img.okezone.com/content/2021/02/24/194/2367275/makna-mendalam-motif-batik-mega-mendung-yyHMjm5xCF.jpg')\n",
    "\n",
    "# img = tf.keras.utils.load_img(\n",
    "#     BytesIO(response.content), target_size=(img_height, img_width)\n",
    "# )\n",
    "# img = img_to_array(img)\n",
    "img = load_img('../dataset/input_sample/1.jpg', target_size=img_size)\n",
    "img = img_to_array(img)\n",
    "img = np.expand_dims(img, axis=0)\n",
    "\n",
    "predictions = reconstructed_model.predict(img)\n",
    "score = tf.nn.softmax(predictions[0])\n",
    "\n",
    "print(\n",
    "    \"This image most likely belongs to {} with a {:.2f} percent confidence.\"\n",
    "    .format(class_list[np.argmax(score)], 100 * np.max(score))\n",
    ")\n",
    "print(predictions)"
   ]
  },
  {
   "attachments": {},
   "cell_type": "markdown",
   "metadata": {},
   "source": [
    "## K-Fold Cross Validation"
   ]
  },
  {
   "cell_type": "code",
   "execution_count": 55,
   "metadata": {},
   "outputs": [
    {
     "name": "stdout",
     "output_type": "stream",
     "text": [
      "Found 396 files belonging to 4 classes.\n",
      "Score for fold 1: loss of 7.76; accuracy of 0.0%\n",
      "Score for fold 2: loss of 6.99; accuracy of 50.0%\n",
      "Score for fold 3: loss of 1.35; accuracy of 33.33333432674408%\n",
      "Score for fold 4: loss of 4.47; accuracy of 66.66666865348816%\n",
      "Score for fold 5: loss of 2.56; accuracy of 66.66666865348816%\n",
      "Score for fold 6: loss of 0.00; accuracy of 100.0%\n",
      "Score for fold 7: loss of 0.04; accuracy of 100.0%\n",
      "Score for fold 8: loss of 0.00; accuracy of 100.0%\n",
      "Score for fold 9: loss of 0.00; accuracy of 100.0%\n",
      "Score for fold 10: loss of 0.00; accuracy of 100.0%\n",
      "Accuracy: 71.66666716337204\n",
      "Loss: 2.317124063769976\n"
     ]
    }
   ],
   "source": [
    "from sklearn.model_selection import KFold\n",
    "import tensorflow_datasets as tfds\n",
    "\n",
    "num_folds = 10\n",
    "\n",
    "kfold = KFold(n_splits=num_folds, shuffle=True)\n",
    "dataset_dir = '../dataset/processed/'\n",
    "\n",
    "dataset = tf.keras.utils.image_dataset_from_directory(\n",
    "  dataset_dir,\n",
    "  image_size=(img_height, img_width),)\n",
    "\n",
    "# dataset = dataset.map(lambda x, y: (normalization_layer(x), y))\n",
    "dataset = tfds.as_numpy(dataset)\n",
    "\n",
    "inputs = next(iter(dataset))[0]\n",
    "targets = next(iter(dataset))[1]\n",
    "\n",
    "# Define per-fold score containers\n",
    "acc_per_fold = []\n",
    "loss_per_fold = []\n",
    "\n",
    "fold_no = 1\n",
    "for train, test in kfold.split(inputs, targets):\n",
    "  history = reconstructed_model.fit(\n",
    "    inputs[train],\n",
    "    targets[train],\n",
    "    epochs=epochs,\n",
    "    verbose=0\n",
    "  )\n",
    "\n",
    "  # Generate generalization metrics\n",
    "  scores = reconstructed_model.evaluate(inputs[test], targets[test], verbose=0)\n",
    "  acc_per_fold.append(scores[1] * 100)\n",
    "  loss_per_fold.append(scores[0])\n",
    "\n",
    "  print(f'Score for fold {fold_no}: {reconstructed_model.metrics_names[0]} of {scores[0]:.2f}; {reconstructed_model.metrics_names[1]} of {scores[1]*100}%')\n",
    "\n",
    "  # Increase fold number\n",
    "  fold_no = fold_no + 1\n",
    "\n",
    "print(f'Accuracy: {np.mean(acc_per_fold)}')\n",
    "print(f'Loss: {np.mean(loss_per_fold)}')"
   ]
  }
 ],
 "metadata": {
  "kernelspec": {
   "display_name": "Python 3.10.6 64-bit",
   "language": "python",
   "name": "python3"
  },
  "language_info": {
   "codemirror_mode": {
    "name": "ipython",
    "version": 3
   },
   "file_extension": ".py",
   "mimetype": "text/x-python",
   "name": "python",
   "nbconvert_exporter": "python",
   "pygments_lexer": "ipython3",
   "version": "3.11.3"
  },
  "orig_nbformat": 4,
  "vscode": {
   "interpreter": {
    "hash": "12ad04600b7f7e1eb247062de464ce748843089d4f432d5c4a03e63726821772"
   }
  }
 },
 "nbformat": 4,
 "nbformat_minor": 2
}
