{
 "cells": [
  {
   "cell_type": "code",
   "execution_count": 1,
   "metadata": {},
   "outputs": [],
   "source": [
    "import pandas as pd\n",
    "import numpy as np\n",
    "import tensorflow as tf"
   ]
  },
  {
   "cell_type": "code",
   "execution_count": 2,
   "metadata": {},
   "outputs": [],
   "source": [
    "import os\n",
    "\n",
    "base_dir = './'\n",
    "train_dir = os.path.join(base_dir, '../dataset/processed')\n",
    "validation_dir = os.path.join(base_dir, '../dataset/test')\n"
   ]
  },
  {
   "cell_type": "code",
   "execution_count": 3,
   "metadata": {},
   "outputs": [],
   "source": [
    "batch_size = 4\n",
    "total_train = 322\n",
    "total_test = 20\n",
    "img_size = (img_width, img_height) = (128, 128)\n",
    "epochs = 30"
   ]
  },
  {
   "cell_type": "code",
   "execution_count": 4,
   "metadata": {},
   "outputs": [],
   "source": [
    "from keras.preprocessing.image import ImageDataGenerator\n",
    "\n",
    "train_datagen = ImageDataGenerator(\n",
    "        rescale=1./255,\n",
    "        rotation_range=20,\n",
    "        horizontal_flip=True,\n",
    "        shear_range = 0.2,\n",
    "        fill_mode='nearest'\n",
    "      )\n",
    "\n",
    "test_datagen = ImageDataGenerator(rescale=1./255)"
   ]
  },
  {
   "cell_type": "code",
   "execution_count": 5,
   "metadata": {},
   "outputs": [
    {
     "name": "stdout",
     "output_type": "stream",
     "text": [
      "Found 322 images belonging to 4 classes.\n",
      "Found 24 images belonging to 4 classes.\n"
     ]
    }
   ],
   "source": [
    "class_mode = 'sparse'\n",
    "\n",
    "train_generator = train_datagen.flow_from_directory(\n",
    "    train_dir,\n",
    "    target_size=img_size,\n",
    "    batch_size=batch_size,\n",
    "    class_mode=class_mode\n",
    ")\n",
    "\n",
    "validation_generator = test_datagen.flow_from_directory(\n",
    "    validation_dir,\n",
    "    target_size=img_size,\n",
    "    batch_size=batch_size,\n",
    "    class_mode=class_mode\n",
    ")"
   ]
  },
  {
   "cell_type": "code",
   "execution_count": 6,
   "metadata": {},
   "outputs": [],
   "source": [
    "def create_model():\n",
    "    model = tf.keras.models.Sequential([\n",
    "        tf.keras.layers.Conv2D(128, (3,3), activation='relu', input_shape=(img_width, img_height, 3)),\n",
    "        tf.keras.layers.MaxPooling2D(2, 2),\n",
    "\n",
    "        tf.keras.layers.Conv2D(64, (3,3), activation='relu'),\n",
    "        tf.keras.layers.MaxPooling2D(2, 2),\n",
    "\n",
    "        tf.keras.layers.Conv2D(32, (3,3), activation='relu'),\n",
    "        tf.keras.layers.MaxPooling2D(2, 2),\n",
    "\n",
    "        tf.keras.layers.Flatten(),\n",
    "        tf.keras.layers.Dense(256, activation='relu'),\n",
    "        tf.keras.layers.Dense(5, activation='softmax')\n",
    "    ])\n",
    "\n",
    "    model.compile(loss='sparse_categorical_crossentropy',\n",
    "              optimizer='adam',\n",
    "              metrics=['accuracy'])\n",
    "  \n",
    "    return model"
   ]
  },
  {
   "cell_type": "code",
   "execution_count": 7,
   "metadata": {},
   "outputs": [],
   "source": [
    "checkpoint_path = './trained_model/model.ckpt'\n",
    "checkpoint_dir = os.path.dirname(checkpoint_path)\n",
    "cp_callback = tf.keras.callbacks.ModelCheckpoint(filepath=checkpoint_path, save_weights_only=True, verbose=1)"
   ]
  },
  {
   "cell_type": "code",
   "execution_count": 8,
   "metadata": {},
   "outputs": [
    {
     "name": "stdout",
     "output_type": "stream",
     "text": [
      "Epoch 1/30\n",
      "80/80 [==============================] - ETA: 0s - loss: 1.4065 - accuracy: 0.3270\n",
      "Epoch 1: saving model to ./trained_model\\model.ckpt\n",
      "80/80 [==============================] - 21s 223ms/step - loss: 1.4065 - accuracy: 0.3270 - val_loss: 1.3276 - val_accuracy: 0.3000\n",
      "Epoch 2/30\n",
      "80/80 [==============================] - ETA: 0s - loss: 1.2229 - accuracy: 0.4811\n",
      "Epoch 2: saving model to ./trained_model\\model.ckpt\n",
      "80/80 [==============================] - 16s 193ms/step - loss: 1.2229 - accuracy: 0.4811 - val_loss: 1.0988 - val_accuracy: 0.5000\n",
      "Epoch 3/30\n",
      "80/80 [==============================] - ETA: 0s - loss: 0.8127 - accuracy: 0.6918\n",
      "Epoch 3: saving model to ./trained_model\\model.ckpt\n",
      "80/80 [==============================] - 15s 189ms/step - loss: 0.8127 - accuracy: 0.6918 - val_loss: 0.6128 - val_accuracy: 0.8000\n",
      "Epoch 4/30\n",
      "80/80 [==============================] - ETA: 0s - loss: 0.5655 - accuracy: 0.7736\n",
      "Epoch 4: saving model to ./trained_model\\model.ckpt\n",
      "80/80 [==============================] - 17s 215ms/step - loss: 0.5655 - accuracy: 0.7736 - val_loss: 0.5676 - val_accuracy: 0.7500\n",
      "Epoch 5/30\n",
      "80/80 [==============================] - ETA: 0s - loss: 0.5302 - accuracy: 0.8239\n",
      "Epoch 5: saving model to ./trained_model\\model.ckpt\n",
      "80/80 [==============================] - 19s 236ms/step - loss: 0.5302 - accuracy: 0.8239 - val_loss: 0.3042 - val_accuracy: 0.9000\n",
      "Epoch 6/30\n",
      "80/80 [==============================] - ETA: 0s - loss: 0.3225 - accuracy: 0.8868\n",
      "Epoch 6: saving model to ./trained_model\\model.ckpt\n",
      "80/80 [==============================] - 18s 228ms/step - loss: 0.3225 - accuracy: 0.8868 - val_loss: 0.2567 - val_accuracy: 0.8500\n",
      "Epoch 7/30\n",
      "80/80 [==============================] - ETA: 0s - loss: 0.2806 - accuracy: 0.8899\n",
      "Epoch 7: saving model to ./trained_model\\model.ckpt\n",
      "80/80 [==============================] - 20s 250ms/step - loss: 0.2806 - accuracy: 0.8899 - val_loss: 0.2270 - val_accuracy: 0.9000\n",
      "Epoch 8/30\n",
      "80/80 [==============================] - ETA: 0s - loss: 0.2650 - accuracy: 0.9025\n",
      "Epoch 8: saving model to ./trained_model\\model.ckpt\n",
      "80/80 [==============================] - 18s 224ms/step - loss: 0.2650 - accuracy: 0.9025 - val_loss: 0.1902 - val_accuracy: 0.9500\n",
      "Epoch 9/30\n",
      "80/80 [==============================] - ETA: 0s - loss: 0.3223 - accuracy: 0.9025\n",
      "Epoch 9: saving model to ./trained_model\\model.ckpt\n",
      "80/80 [==============================] - 18s 230ms/step - loss: 0.3223 - accuracy: 0.9025 - val_loss: 0.1573 - val_accuracy: 0.9500\n",
      "Epoch 10/30\n",
      "80/80 [==============================] - ETA: 0s - loss: 0.2939 - accuracy: 0.8931\n",
      "Epoch 10: saving model to ./trained_model\\model.ckpt\n",
      "80/80 [==============================] - 18s 227ms/step - loss: 0.2939 - accuracy: 0.8931 - val_loss: 0.2182 - val_accuracy: 0.9000\n",
      "Epoch 11/30\n",
      "80/80 [==============================] - ETA: 0s - loss: 0.1491 - accuracy: 0.9560\n",
      "Epoch 11: saving model to ./trained_model\\model.ckpt\n",
      "80/80 [==============================] - 18s 220ms/step - loss: 0.1491 - accuracy: 0.9560 - val_loss: 0.1938 - val_accuracy: 0.9500\n",
      "Epoch 12/30\n",
      "80/80 [==============================] - ETA: 0s - loss: 0.1361 - accuracy: 0.9654\n",
      "Epoch 12: saving model to ./trained_model\\model.ckpt\n",
      "80/80 [==============================] - 18s 222ms/step - loss: 0.1361 - accuracy: 0.9654 - val_loss: 0.0670 - val_accuracy: 1.0000\n",
      "Epoch 13/30\n",
      "80/80 [==============================] - ETA: 0s - loss: 0.1339 - accuracy: 0.9434\n",
      "Epoch 13: saving model to ./trained_model\\model.ckpt\n",
      "80/80 [==============================] - 18s 221ms/step - loss: 0.1339 - accuracy: 0.9434 - val_loss: 0.3546 - val_accuracy: 0.9000\n",
      "Epoch 14/30\n",
      "80/80 [==============================] - ETA: 0s - loss: 0.1744 - accuracy: 0.9465\n",
      "Epoch 14: saving model to ./trained_model\\model.ckpt\n",
      "80/80 [==============================] - 19s 243ms/step - loss: 0.1744 - accuracy: 0.9465 - val_loss: 0.2695 - val_accuracy: 0.8500\n",
      "Epoch 15/30\n",
      "80/80 [==============================] - ETA: 0s - loss: 0.1819 - accuracy: 0.9563\n",
      "Epoch 15: saving model to ./trained_model\\model.ckpt\n",
      "80/80 [==============================] - 23s 287ms/step - loss: 0.1819 - accuracy: 0.9563 - val_loss: 0.0630 - val_accuracy: 1.0000\n",
      "Epoch 16/30\n",
      "80/80 [==============================] - ETA: 0s - loss: 0.1650 - accuracy: 0.9434\n",
      "Epoch 16: saving model to ./trained_model\\model.ckpt\n",
      "80/80 [==============================] - 23s 286ms/step - loss: 0.1650 - accuracy: 0.9434 - val_loss: 0.0729 - val_accuracy: 1.0000\n",
      "Epoch 17/30\n",
      "80/80 [==============================] - ETA: 0s - loss: 0.0489 - accuracy: 0.9811\n",
      "Epoch 17: saving model to ./trained_model\\model.ckpt\n",
      "80/80 [==============================] - 22s 277ms/step - loss: 0.0489 - accuracy: 0.9811 - val_loss: 0.2070 - val_accuracy: 0.9000\n",
      "Epoch 18/30\n",
      "80/80 [==============================] - ETA: 0s - loss: 0.0863 - accuracy: 0.9654\n",
      "Epoch 18: saving model to ./trained_model\\model.ckpt\n",
      "80/80 [==============================] - 19s 241ms/step - loss: 0.0863 - accuracy: 0.9654 - val_loss: 0.2727 - val_accuracy: 0.9500\n",
      "Epoch 19/30\n",
      "80/80 [==============================] - ETA: 0s - loss: 0.0493 - accuracy: 0.9811\n",
      "Epoch 19: saving model to ./trained_model\\model.ckpt\n",
      "80/80 [==============================] - 18s 224ms/step - loss: 0.0493 - accuracy: 0.9811 - val_loss: 0.0442 - val_accuracy: 1.0000\n",
      "Epoch 20/30\n",
      "80/80 [==============================] - ETA: 0s - loss: 0.0914 - accuracy: 0.9780\n",
      "Epoch 20: saving model to ./trained_model\\model.ckpt\n",
      "80/80 [==============================] - 19s 232ms/step - loss: 0.0914 - accuracy: 0.9780 - val_loss: 0.1917 - val_accuracy: 0.9500\n",
      "Epoch 21/30\n",
      "80/80 [==============================] - ETA: 0s - loss: 0.1016 - accuracy: 0.9717\n",
      "Epoch 21: saving model to ./trained_model\\model.ckpt\n",
      "80/80 [==============================] - 17s 216ms/step - loss: 0.1016 - accuracy: 0.9717 - val_loss: 0.0252 - val_accuracy: 1.0000\n",
      "Epoch 22/30\n",
      "80/80 [==============================] - ETA: 0s - loss: 0.0851 - accuracy: 0.9811\n",
      "Epoch 22: saving model to ./trained_model\\model.ckpt\n",
      "80/80 [==============================] - 18s 229ms/step - loss: 0.0851 - accuracy: 0.9811 - val_loss: 0.4618 - val_accuracy: 0.9500\n",
      "Epoch 23/30\n",
      "80/80 [==============================] - ETA: 0s - loss: 0.0133 - accuracy: 0.9969\n",
      "Epoch 23: saving model to ./trained_model\\model.ckpt\n",
      "80/80 [==============================] - 20s 245ms/step - loss: 0.0133 - accuracy: 0.9969 - val_loss: 0.3170 - val_accuracy: 0.9500\n",
      "Epoch 24/30\n",
      "80/80 [==============================] - ETA: 0s - loss: 0.0283 - accuracy: 0.9843\n",
      "Epoch 24: saving model to ./trained_model\\model.ckpt\n",
      "80/80 [==============================] - 18s 221ms/step - loss: 0.0283 - accuracy: 0.9843 - val_loss: 0.5262 - val_accuracy: 0.9500\n",
      "Epoch 25/30\n",
      "80/80 [==============================] - ETA: 0s - loss: 0.0137 - accuracy: 0.9969\n",
      "Epoch 25: saving model to ./trained_model\\model.ckpt\n",
      "80/80 [==============================] - 18s 222ms/step - loss: 0.0137 - accuracy: 0.9969 - val_loss: 0.3202 - val_accuracy: 0.9500\n",
      "Epoch 26/30\n",
      "80/80 [==============================] - ETA: 0s - loss: 0.0284 - accuracy: 0.9906\n",
      "Epoch 26: saving model to ./trained_model\\model.ckpt\n",
      "80/80 [==============================] - 18s 223ms/step - loss: 0.0284 - accuracy: 0.9906 - val_loss: 0.3615 - val_accuracy: 0.9500\n",
      "Epoch 27/30\n",
      "80/80 [==============================] - ETA: 0s - loss: 0.0667 - accuracy: 0.9748\n",
      "Epoch 27: saving model to ./trained_model\\model.ckpt\n",
      "80/80 [==============================] - 18s 227ms/step - loss: 0.0667 - accuracy: 0.9748 - val_loss: 0.1615 - val_accuracy: 0.9000\n",
      "Epoch 28/30\n",
      "80/80 [==============================] - ETA: 0s - loss: 0.1453 - accuracy: 0.9528\n",
      "Epoch 28: saving model to ./trained_model\\model.ckpt\n",
      "80/80 [==============================] - 19s 242ms/step - loss: 0.1453 - accuracy: 0.9528 - val_loss: 0.4511 - val_accuracy: 0.8500\n",
      "Epoch 29/30\n",
      "80/80 [==============================] - ETA: 0s - loss: 0.2504 - accuracy: 0.9214\n",
      "Epoch 29: saving model to ./trained_model\\model.ckpt\n",
      "80/80 [==============================] - 20s 247ms/step - loss: 0.2504 - accuracy: 0.9214 - val_loss: 0.3387 - val_accuracy: 0.9500\n",
      "Epoch 30/30\n",
      "80/80 [==============================] - ETA: 0s - loss: 0.1584 - accuracy: 0.9591\n",
      "Epoch 30: saving model to ./trained_model\\model.ckpt\n",
      "80/80 [==============================] - 20s 252ms/step - loss: 0.1584 - accuracy: 0.9591 - val_loss: 0.0264 - val_accuracy: 1.0000\n"
     ]
    },
    {
     "data": {
      "text/plain": [
       "<keras.callbacks.History at 0x162730afb50>"
      ]
     },
     "execution_count": 8,
     "metadata": {},
     "output_type": "execute_result"
    }
   ],
   "source": [
    "model = create_model()\n",
    "\n",
    "model.save_weights(checkpoint_path.format(epoch=0))\n",
    "\n",
    "model.fit(\n",
    "      train_generator,\n",
    "      epochs=epochs,\n",
    "      steps_per_epoch=total_train//batch_size,\n",
    "      validation_data=validation_generator,\n",
    "      validation_steps=total_test//batch_size, \n",
    "      callbacks=[cp_callback]\n",
    "      )"
   ]
  },
  {
   "cell_type": "code",
   "execution_count": 10,
   "metadata": {},
   "outputs": [
    {
     "data": {
      "image/png": "[encoded data removed]",
      "text/plain": [
       "<Figure size 640x480 with 1 Axes>"
      ]
     },
     "metadata": {},
     "output_type": "display_data"
    }
   ],
   "source": [
    "import matplotlib.pyplot as plt\n",
    "\n",
    "plt.plot(model.history.history['accuracy'])\n",
    "plt.plot(model.history.history['val_accuracy'])\n",
    "plt.title('Model accuracy')\n",
    "plt.ylabel('Accuracy')\n",
    "plt.xlabel('Epoch')\n",
    "plt.legend(['Train', 'Test'], loc='upper left')\n",
    "plt.show()"
   ]
  },
  {
   "cell_type": "code",
   "execution_count": 11,
   "metadata": {},
   "outputs": [
    {
     "data": {
      "image/png": "[encoded data removed]",
      "text/plain": [
       "<Figure size 640x480 with 1 Axes>"
      ]
     },
     "metadata": {},
     "output_type": "display_data"
    }
   ],
   "source": [
    "plt.plot(model.history.history['loss'])\n",
    "plt.plot(model.history.history['val_loss'])\n",
    "plt.title('Model Loss')\n",
    "plt.ylabel('Loss')\n",
    "plt.xlabel('Epoch')\n",
    "plt.legend(['Train', 'Test'], loc='upper left')\n",
    "plt.show()"
   ]
  },
  {
   "cell_type": "code",
   "execution_count": 12,
   "metadata": {},
   "outputs": [],
   "source": [
    "model.save_weights('./trained_model/weights.h5')\n",
    "model.save('./trained_model/model.h5')"
   ]
  },
  {
   "cell_type": "markdown",
   "metadata": {},
   "source": [
    "<h2>Load Model</h2>"
   ]
  },
  {
   "cell_type": "code",
   "execution_count": 14,
   "metadata": {},
   "outputs": [],
   "source": [
    "reconstructed_model = tf.keras.models.load_model('./trained_model/model.h5')"
   ]
  },
  {
   "cell_type": "markdown",
   "metadata": {},
   "source": [
    "<h2>Predicting an Image</h2>"
   ]
  },
  {
   "cell_type": "code",
   "execution_count": 16,
   "metadata": {},
   "outputs": [
    {
     "name": "stdout",
     "output_type": "stream",
     "text": [
      "1/1 [==============================] - 0s 44ms/step\n",
      "[[0. 0. 1. 0. 0.]]\n",
      "tanjirou\n"
     ]
    }
   ],
   "source": [
    "from keras.utils import load_img, img_to_array\n",
    "\n",
    "img = load_img('../dataset/processed/tanjirou/15.png', target_size=img_size)\n",
    "img = img_to_array(img)\n",
    "img = np.expand_dims(img, axis=0)\n",
    "class_list = os.listdir(train_dir)\n",
    "prediction = reconstructed_model.predict(img)\n",
    "print(prediction)\n",
    "for j in range(5):\n",
    "    if prediction[0][j] == 1. :\n",
    "        print(class_list[j])\n",
    "        break"
   ]
  },
  {
   "cell_type": "code",
   "execution_count": 17,
   "metadata": {},
   "outputs": [
    {
     "name": "stdout",
     "output_type": "stream",
     "text": [
      "1/1 [==============================] - 0s 123ms/step\n",
      "This image most likely belongs to tanjirou with a 40.46 percent confidence.\n",
      "[[0. 0. 1. 0. 0.]]\n"
     ]
    }
   ],
   "source": [
    "# import requests\n",
    "# from io import BytesIO\n",
    "\n",
    "# response = requests.get('https://img.okezone.com/content/2021/02/24/194/2367275/makna-mendalam-motif-batik-mega-mendung-yyHMjm5xCF.jpg')\n",
    "\n",
    "# img = tf.keras.utils.load_img(\n",
    "#     BytesIO(response.content), target_size=(img_height, img_width)\n",
    "# )\n",
    "# img = img_to_array(img)\n",
    "img = load_img('../dataset/input_sample/1.jpg', target_size=img_size)\n",
    "img = img_to_array(img)\n",
    "img = np.expand_dims(img, axis=0)\n",
    "\n",
    "predictions = model.predict(img)\n",
    "score = tf.nn.softmax(predictions[0])\n",
    "\n",
    "print(\n",
    "    \"This image most likely belongs to {} with a {:.2f} percent confidence.\"\n",
    "    .format(class_list[np.argmax(score)], 100 * np.max(score))\n",
    ")\n",
    "print(predictions)"
   ]
  },
  {
   "attachments": {},
   "cell_type": "markdown",
   "metadata": {},
   "source": [
    "## K-Fold Cross Validation"
   ]
  },
  {
   "cell_type": "code",
   "execution_count": 18,
   "metadata": {},
   "outputs": [
    {
     "name": "stdout",
     "output_type": "stream",
     "text": [
      "Found 322 files belonging to 4 classes.\n",
      "Score for fold 1: loss of 50.522525787353516; accuracy of 0.0%\n",
      "Score for fold 2: loss of 9.538355827331543; accuracy of 75.0%\n",
      "Score for fold 3: loss of 0.0; accuracy of 100.0%\n",
      "Score for fold 4: loss of 26.364850997924805; accuracy of 66.66666865348816%\n",
      "Score for fold 5: loss of 1.7006757843773812e-05; accuracy of 100.0%\n",
      "Score for fold 6: loss of 0.0; accuracy of 100.0%\n",
      "Score for fold 7: loss of 0.0; accuracy of 100.0%\n",
      "Score for fold 8: loss of 0.0; accuracy of 100.0%\n",
      "Score for fold 9: loss of 0.0; accuracy of 100.0%\n",
      "Score for fold 10: loss of 0.0; accuracy of 100.0%\n",
      "Accuracy: 84.16666686534882\n",
      "Loss: 8.64257496193677\n"
     ]
    }
   ],
   "source": [
    "from sklearn.model_selection import KFold\n",
    "import tensorflow_datasets as tfds\n",
    "\n",
    "num_folds = 10\n",
    "\n",
    "kfold = KFold(n_splits=num_folds, shuffle=True)\n",
    "dataset_dir = '../dataset/processed/'\n",
    "\n",
    "dataset = tf.keras.utils.image_dataset_from_directory(\n",
    "  dataset_dir,\n",
    "  image_size=(img_height, img_width),)\n",
    "\n",
    "# dataset = dataset.map(lambda x, y: (normalization_layer(x), y))\n",
    "dataset = tfds.as_numpy(dataset)\n",
    "\n",
    "inputs = next(iter(dataset))[0]\n",
    "targets = next(iter(dataset))[1]\n",
    "\n",
    "# Define per-fold score containers\n",
    "acc_per_fold = []\n",
    "loss_per_fold = []\n",
    "\n",
    "fold_no = 1\n",
    "for train, test in kfold.split(inputs, targets):\n",
    "  history = reconstructed_model.fit(\n",
    "    inputs[train],\n",
    "    targets[train],\n",
    "    epochs=epochs,\n",
    "    verbose=0\n",
    "  )\n",
    "\n",
    "  # Generate generalization metrics\n",
    "  scores = reconstructed_model.evaluate(inputs[test], targets[test], verbose=0)\n",
    "  acc_per_fold.append(scores[1] * 100)\n",
    "  loss_per_fold.append(scores[0])\n",
    "\n",
    "  print(f'Score for fold {fold_no}: {reconstructed_model.metrics_names[0]} of {scores[0]}; {reconstructed_model.metrics_names[1]} of {scores[1]*100}%')\n",
    "\n",
    "  # Increase fold number\n",
    "  fold_no = fold_no + 1\n",
    "\n",
    "print(f'Accuracy: {np.mean(acc_per_fold)}')\n",
    "print(f'Loss: {np.mean(loss_per_fold)}')"
   ]
  },
  {
   "cell_type": "code",
   "execution_count": null,
   "metadata": {},
   "outputs": [],
   "source": []
  }
 ],
 "metadata": {
  "kernelspec": {
   "display_name": "Python 3.10.6 64-bit",
   "language": "python",
   "name": "python3"
  },
  "language_info": {
   "codemirror_mode": {
    "name": "ipython",
    "version": 3
   },
   "file_extension": ".py",
   "mimetype": "text/x-python",
   "name": "python",
   "nbconvert_exporter": "python",
   "pygments_lexer": "ipython3",
   "version": "3.10.6"
  },
  "orig_nbformat": 4,
  "vscode": {
   "interpreter": {
    "hash": "12ad04600b7f7e1eb247062de464ce748843089d4f432d5c4a03e63726821772"
   }
  }
 },
 "nbformat": 4,
 "nbformat_minor": 2
}
